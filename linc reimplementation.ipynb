{
 "cells": [
  {
   "cell_type": "code",
   "execution_count": 60,
   "id": "ababbd52",
   "metadata": {
    "scrolled": true
   },
   "outputs": [],
   "source": [
    "import re\n",
    "import nltk\n",
    "from nltk.sem import logic\n",
    "from nltk.sem import Expression"
   ]
  },
  {
   "cell_type": "code",
   "execution_count": 61,
   "id": "1dd4089a",
   "metadata": {},
   "outputs": [],
   "source": [
    "#load in folio data\n",
    "import pandas as pd\n",
    "\n",
    "# Login using e.g. `huggingface-cli login` to access this dataset\n",
    "splits = {'train': 'folio_v2_train.jsonl', 'validation': 'folio_v2_validation.jsonl'}"
   ]
  },
  {
   "cell_type": "code",
   "execution_count": 62,
   "id": "718dc2e0",
   "metadata": {},
   "outputs": [],
   "source": [
    "\n",
    "train = pd.read_json(\"hf://datasets/yale-nlp/FOLIO/\" + splits[\"train\"], lines=True)"
   ]
  },
  {
   "cell_type": "code",
   "execution_count": 63,
   "id": "6ce102c7",
   "metadata": {},
   "outputs": [
    {
     "name": "stdout",
     "output_type": "stream",
     "text": [
      "0       All people who regularly drink coffee are depe...\n",
      "1       All people who regularly drink coffee are depe...\n",
      "2       All people who regularly drink coffee are depe...\n",
      "3       All people who regularly drink coffee are depe...\n",
      "4       Miroslav Venhoda was a Czech choral conductor ...\n",
      "                              ...                        \n",
      "996     Any convicted criminal that is innocent is not...\n",
      "997     Any convicted criminal that is innocent is not...\n",
      "998     Any convicted criminal that is innocent is not...\n",
      "999     Phoneix's music is classified under the indie ...\n",
      "1000    Phoneix's music is classified under the indie ...\n",
      "Name: premises, Length: 1001, dtype: object\n"
     ]
    }
   ],
   "source": [
    "print(train['premises'])"
   ]
  },
  {
   "cell_type": "code",
   "execution_count": 66,
   "id": "124c700e",
   "metadata": {},
   "outputs": [],
   "source": [
    "# convert premise FOL to nltk representation so that we can convert to expression to ultimately pass to prover\n",
    "\n",
    "######\n",
    "# function citation: \n",
    "# from https://github.com/benlipkin/linc/blob/main/eval/tasks/utils.py\n",
    "######\n",
    "def convert_to_nltk_rep(logic_formula):\n",
    "    translation_map = {\n",
    "        \"∀\": \"all \",\n",
    "        \"∃\": \"exists \",\n",
    "        \"→\": \"->\",\n",
    "        \"¬\": \"-\",\n",
    "        \"∧\": \"&\",\n",
    "        \"∨\": \"|\",\n",
    "        \"⟷\": \"<->\",\n",
    "        \"↔\": \"<->\",\n",
    "        \"0\": \"Zero\",\n",
    "        \"1\": \"One\",\n",
    "        \"2\": \"Two\",\n",
    "        \"3\": \"Three\",\n",
    "        \"4\": \"Four\",\n",
    "        \"5\": \"Five\",\n",
    "        \"6\": \"Six\",\n",
    "        \"7\": \"Seven\",\n",
    "        \"8\": \"Eight\",\n",
    "        \"9\": \"Nine\",\n",
    "        \".\": \"Dot\",\n",
    "        \"Ś\": \"S\",\n",
    "        \"ą\": \"a\",\n",
    "        \"’\": \"\",\n",
    "    }\n",
    "\n",
    "    constant_pattern = r'\\b([a-z]{2,})(?!\\()'\n",
    "    logic_formula = re.sub(constant_pattern, lambda match: match.group(1).capitalize(), logic_formula)\n",
    "\n",
    "    for key, value in translation_map.items():\n",
    "        logic_formula = logic_formula.replace(key, value)\n",
    "\n",
    "    quant_pattern = r\"(all\\s|exists\\s)([a-z])\"\n",
    "    def replace_quant(match):\n",
    "        return match.group(1) + match.group(2) + \".\"\n",
    "    logic_formula = re.sub(quant_pattern, replace_quant, logic_formula)\n",
    "\n",
    "    dotted_param_pattern = r\"([a-z])\\.(?=[a-z])\"\n",
    "    def replace_dotted_param(match):\n",
    "        return match.group(1)\n",
    "    logic_formula = re.sub(dotted_param_pattern, replace_dotted_param, logic_formula)\n",
    "\n",
    "    simple_xor_pattern = r\"(\\w+\\([^()]*\\)) ⊕ (\\w+\\([^()]*\\))\"\n",
    "    def replace_simple_xor(match):\n",
    "        return (\"((\" + match.group(1) + \" & -\" + match.group(2) + \") | (-\" + match.group(1) + \" & \" + match.group(2) + \"))\")\n",
    "    logic_formula = re.sub(simple_xor_pattern, replace_simple_xor, logic_formula)\n",
    "\n",
    "    complex_xor_pattern = r\"\\((.*?)\\)\\) ⊕ \\((.*?)\\)\\)\"\n",
    "    def replace_complex_xor(match):\n",
    "        return (\"(((\" + match.group(1) + \")) & -(\" + match.group(2) + \"))) | (-(\" + match.group(1) + \")) & (\" + match.group(2) + \"))))\")\n",
    "    logic_formula = re.sub(complex_xor_pattern, replace_complex_xor, logic_formula)\n",
    "\n",
    "    special_xor_pattern = r\"\\(\\(\\((.*?)\\)\\)\\) ⊕ (\\w+\\([^()]*\\))\"\n",
    "    def replace_special_xor(match):\n",
    "        return (\"(((\" + match.group(1) + \")) & -\" + match.group(2) + \") | (-(\" + match.group(1) + \")) & \" + match.group(2) + \")\")\n",
    "    logic_formula = re.sub(special_xor_pattern, replace_special_xor, logic_formula)\n",
    "    \n",
    "    return logic_formula\n",
    "\n"
   ]
  },
  {
   "cell_type": "code",
   "execution_count": 67,
   "id": "67ec79a5",
   "metadata": {},
   "outputs": [],
   "source": [
    "train['premises-FOL'] = [ convert_to_nltk_rep(p) for p in train['premises-FOL']]\n",
    "train['conclusion-FOL'] = train['conclusion-FOL'].apply(convert_to_nltk_rep)\n"
   ]
  },
  {
   "cell_type": "code",
   "execution_count": 92,
   "id": "286ae446",
   "metadata": {
    "scrolled": true
   },
   "outputs": [
    {
     "name": "stdout",
     "output_type": "stream",
     "text": [
      "Uncertain\n"
     ]
    }
   ],
   "source": [
    "n = 23\n",
    "n = 60\n",
    "n = 148\n",
    "n= 261\n",
    "\n",
    "# test\n",
    "n = 850\n",
    "\n",
    "print(train['label'][n])"
   ]
  },
  {
   "cell_type": "code",
   "execution_count": 93,
   "id": "48086646",
   "metadata": {
    "scrolled": false
   },
   "outputs": [
    {
     "name": "stdout",
     "output_type": "stream",
     "text": [
      "Surprises are either fun or dreadful.\n",
      "All scares are surprises.\n"
     ]
    }
   ],
   "source": [
    "print(train['premises'][n])"
   ]
  },
  {
   "cell_type": "code",
   "execution_count": 97,
   "id": "fdb89939",
   "metadata": {},
   "outputs": [
    {
     "name": "stdout",
     "output_type": "stream",
     "text": [
      "All scares are fun.\n"
     ]
    }
   ],
   "source": [
    "print(train['conclusion'][n])"
   ]
  },
  {
   "cell_type": "code",
   "execution_count": 94,
   "id": "a1895a22",
   "metadata": {
    "scrolled": true
   },
   "outputs": [
    {
     "name": "stdout",
     "output_type": "stream",
     "text": [
      "All xDot (Surprise(x) -> (((Fun(x) & -Dreadful(x)) | (-Fun(x) & Dreadful(x)))))\n",
      "All xDot (Scare(x) -> Surprise(x))\n"
     ]
    }
   ],
   "source": [
    "print(train['premises-FOL'][n])"
   ]
  },
  {
   "cell_type": "code",
   "execution_count": 95,
   "id": "6e655909",
   "metadata": {
    "scrolled": true
   },
   "outputs": [
    {
     "name": "stdout",
     "output_type": "stream",
     "text": [
      "all x. (Scare(x) -> Fun(x))\n"
     ]
    }
   ],
   "source": [
    "print(train['conclusion-FOL'][n])"
   ]
  },
  {
   "cell_type": "code",
   "execution_count": 96,
   "id": "11e9f42f",
   "metadata": {
    "scrolled": true
   },
   "outputs": [
    {
     "name": "stdout",
     "output_type": "stream",
     "text": [
      "TEXT: Surprises are either fun or dreadful.\n",
      "FOL: All xDot (Surprise(x) -> (((Fun(x) & -Dreadful(x)) | (-Fun(x) & Dreadful(x)))))\n",
      "\n",
      "TEXT: All scares are surprises.\n",
      "FOL: All xDot (Scare(x) -> Surprise(x))\n",
      "\n",
      "TEXT: All scares are fun.\n",
      "FOL: all x. (Scare(x) -> Fun(x))\n",
      "\n"
     ]
    }
   ],
   "source": [
    "for p, f in zip(train['premises'][n].split('\\n'), train['premises-FOL'][n].split('\\n')):\n",
    "    print(f\"TEXT: {p.strip()}\\nFOL: {f.strip()}\\n\")\n",
    "print(f\"TEXT: {train['conclusion'][n].strip()}\\nFOL: {train['conclusion-FOL'][n].strip()}\\n\")"
   ]
  },
  {
   "cell_type": "code",
   "execution_count": null,
   "id": "6c406c4b",
   "metadata": {},
   "outputs": [],
   "source": [
    "# build prompt\n",
    "\n",
    "normal = \"\"\"The following is a first-order logic (FOL) problem.\n",
    "The problem is to determine whether the conclusion follows from the premises.\n",
    "The premises are given in the form of a set of first-order logic sentences.\n",
    "The conclusion is given in the form of a single first-order logic sentence.\n",
    "The task is to translate each of the premises and conclusions into FOL expressions, so that the expressions can be evaluated by a theorem solver to determine whether the conclusion follows from the premises.\n",
    "Expressions should adhere to the format of the Python NLTK package logic module.\n",
    "\n",
    "Here are four examples of premises and corresponding FOL, preceded by whether the FOL evaluates to true or false.\n",
    "\n",
    "TEXT: A La Liga soccer team ranks higher than another La Liga soccer team if it receives more points.\n",
    "FOL: All xDot All yDot (LaLigaSoccerTeam(x) & LaLigaSoccerTeam(y) & MorePoints(x, y) -> RankHigherThan(x, y))\n",
    "\n",
    "TEXT: If there are two La Liga soccer teams and neither has more points than the other, then the team which receives more points from the games between the two teams ranks higher.\n",
    "FOL: All xDot All yDot (LaLigaSoccerTeam(x) & LaLigaSoccerTeam(y) & -MorePoints(x, y) & -MorePoints(y, x) & MorePointsInGameBetween(x, y) ->  RankHigherThan(x, y))\n",
    "\n",
    "TEXT: Real Madrid and Barcelona are both La Liga soccer teams.\n",
    "FOL: LaLigaSoccerTeam(RealMadrid) & LaLigaSoccerTeam(Barcelona)\n",
    "\n",
    "TEXT: Real Madrid received more points than Barcelona.\n",
    "FOL: MorePoints(RealMadrid, Barcelona)\n",
    "\n",
    "TEXT: Neither Real Madrid nor Barcelona received more points from the games between them.\n",
    "FOL: -MorePointsInGameBetween(RealMadrid, Barcelona) & -MorePointsInGameBetween(Barcelona, RealMadrid)\n",
    "\n",
    "TEXT: Real Madrid ranks higher than Barcelona.\n",
    "FOL: RankHigherThan(RealMadrid, Barcelona)\n",
    "<EVALUATE>\n",
    "\n",
    "TEXT: All professional athletes spend most of their time on sports.\n",
    "FOL: All xDot (ProfessionalAthlete(x) -> SpendOn(x, MostOfTheirTime, Sports))\n",
    "\n",
    "TEXT: All Olympic gold medal winners are professional athletes.\n",
    "FOL: All xDot (OlympicGoldMedalWinner(x) -> ProfessionalAthlete(x))\n",
    "\n",
    "TEXT: No full-time scientists spend the majority of their time on sports.\n",
    "FOL: All xDot (FullTimeScientist(x) -> -SpendOn(x, MostOfTheirTime, Sports))\n",
    "\n",
    "TEXT: All Nobel physics laureates are full-time scientists.\n",
    "FOL: All xDot (NobelPhysicsLaureate(x) -> FullTimeScientist(x))\n",
    "\n",
    "TEXT: Amy spends the most time on sports, or Amy is an Olympic gold medal winner.\n",
    "FOL: SpendOn(Amy, MostOfTheirTime, Sports) | OlympicGoldMedalWinner(Amy)\n",
    "\n",
    "TEXT: If Amy is not a Nobel physics laureate, then Amy is not an Olympic gold medal winner.\n",
    "FOL: -NobelPhysicsLaureate(Amy) -> -OlympicGoldMedalWinner(Amy)\n",
    "\n",
    "TEXT: If Amy is not an Olympic gold medal winner, then Amy is a Nobel physics laureate.\n",
    "FOL: -OlympicGoldMedalWinner(Amy) -> NobelPhysicsLaureate(Amy)\n",
    "<EVALUATE>\n",
    "\n",
    "TEXT: No songs are visuals.\n",
    "FOL: All xDot (Song(x) -> -Visual(x))\n",
    "\n",
    "TEXT: All folk songs are songs.\n",
    "FOL: All xDot (FolkSong(x) -> Song(x))\n",
    "\n",
    "TEXT: All videos are visuals.\n",
    "FOL: All xDot (Video(x) -> Visual(x))\n",
    "\n",
    "TEXT: All movies are videos.\n",
    "FOL: All xDot (Movie(x) -> Video(x))\n",
    "\n",
    "TEXT: All sci-fi movies are movies.\n",
    "FOL: All xDot (ScifiMovie(x) -> Movie(x))\n",
    "\n",
    "TEXT: Inception is a sci-fi movie.\n",
    "FOL: ScifiMovie(Inception)\n",
    "\n",
    "TEXT: Mac is neither a folk song nor a sci-fi movie.\n",
    "FOL: -FolkSong(Mac) & -ScifiMovie(Mac)\n",
    "\n",
    "TEXT: Inception is a folk song.\n",
    "FOL: FolkSong(Inception)\n",
    "<EVALUATE>\n",
    "\n",
    "TEXT: Every chef can cook.\n",
    "FOL: All xDot (Chef(x) -> Can(x, Cook))\n",
    "\n",
    "TEXT: Some people who aren’t chefs can cook.\n",
    "FOL: Exists xDot (-Chef(x) & Can(x, Cook))\n",
    "\n",
    "TEXT: People who cook can make scrambled eggs and pasta.\n",
    "FOL: All xDot (Can(x, Cook) -> (CanMake(x, ScrambledEggs) & CanMake(x, Pasta)))\n",
    "\n",
    "TEXT: If someone can make cookies and muffins, they are a baker.\n",
    "FOL: All xDot (CanMake(x, Cookies) & CanMake(x, Muffins) -> Baker(x))\n",
    "\n",
    "TEXT: Bakers who can also make scrambled eggs can make a good breakfast.\n",
    "FOL: All xDot ((Baker(x) & CanMake(x, ScrambledEggs)) -> CanMake(x, GoodBreakfast))\n",
    "\n",
    "TEXT: Luke can make cookies, scrambled eggs, and muffins, but not pasta.\n",
    "FOL: CanMake(Luke, Cookies) & (CanMake(Luke, ScrambledEggs) & CanMake(Luke, Muffins) & -CanMake(Luke, Pasta)\n",
    "\n",
    "TEXT: Luke is a chef.\n",
    "FOL: Chef(Luke)\n",
    "<EVALUATE>\n",
    "\n",
    "<PREMISES>\n",
    "Surprises are either fun or dreadful.\n",
    "All scares are surprises.\n",
    "</PREMISES>\n",
    "<CONCLUSION>\n",
    "All scares are fun.\n",
    "</CONCLUSION>\n",
    "<EVALUATE>\n",
    "\"\"\"\n",
    "\n",
    "bnf = \"\"\"The following is a first-order logic (FOL) problem.\n",
    "The problem is to determine whether the conclusion follows from the premises.\n",
    "The premises are given in the form of a set of first-order logic sentences.\n",
    "The conclusion is given in the form of a single first-order logic sentence.\n",
    "The task is to translate each of the premises and conclusions into FOL expressions, so that the expressions can be evaluated by a theorem solver to determine whether the conclusion follows from the premises.\n",
    "Expressions should adhere to the format of the Python NLTK package logic module.\n",
    "\n",
    "Follow the following Backus-Naur Form grammar to construct your expression.\n",
    "```\n",
    "<term> ::= <constant> | <var> | <func>(<term>)\n",
    "<atomic_formula> ::= <predicate>(<term>, <term>, ..., <term>)\n",
    "<formula> ::= <atomic_formula> | -<formula> | (<formula> & <formula>) | (<formula> | <formula>) | (<formula> -> <formula>) | (<formula> <-> <formula>) | all <var>. <formula> | exists <var>. <formula> \n",
    "```\n",
    "\n",
    "Here are four examples of premises and corresponding FOL, preceded by whether the FOL evaluates to true or false.\n",
    "\n",
    "TEXT: A La Liga soccer team ranks higher than another La Liga soccer team if it receives more points.\n",
    "FOL: All xDot All yDot (LaLigaSoccerTeam(x) & LaLigaSoccerTeam(y) & MorePoints(x, y) -> RankHigherThan(x, y))\n",
    "\n",
    "TEXT: If there are two La Liga soccer teams and neither has more points than the other, then the team which receives more points from the games between the two teams ranks higher.\n",
    "FOL: All xDot All yDot (LaLigaSoccerTeam(x) & LaLigaSoccerTeam(y) & -MorePoints(x, y) & -MorePoints(y, x) & MorePointsInGameBetween(x, y) ->  RankHigherThan(x, y))\n",
    "\n",
    "TEXT: Real Madrid and Barcelona are both La Liga soccer teams.\n",
    "FOL: LaLigaSoccerTeam(RealMadrid) & LaLigaSoccerTeam(Barcelona)\n",
    "\n",
    "TEXT: Real Madrid received more points than Barcelona.\n",
    "FOL: MorePoints(RealMadrid, Barcelona)\n",
    "\n",
    "TEXT: Neither Real Madrid nor Barcelona received more points from the games between them.\n",
    "FOL: -MorePointsInGameBetween(RealMadrid, Barcelona) & -MorePointsInGameBetween(Barcelona, RealMadrid)\n",
    "\n",
    "TEXT: Real Madrid ranks higher than Barcelona.\n",
    "FOL: RankHigherThan(RealMadrid, Barcelona)\n",
    "<EVALUATE>\n",
    "\n",
    "TEXT: All professional athletes spend most of their time on sports.\n",
    "FOL: All xDot (ProfessionalAthlete(x) -> SpendOn(x, MostOfTheirTime, Sports))\n",
    "\n",
    "TEXT: All Olympic gold medal winners are professional athletes.\n",
    "FOL: All xDot (OlympicGoldMedalWinner(x) -> ProfessionalAthlete(x))\n",
    "\n",
    "TEXT: No full-time scientists spend the majority of their time on sports.\n",
    "FOL: All xDot (FullTimeScientist(x) -> -SpendOn(x, MostOfTheirTime, Sports))\n",
    "\n",
    "TEXT: All Nobel physics laureates are full-time scientists.\n",
    "FOL: All xDot (NobelPhysicsLaureate(x) -> FullTimeScientist(x))\n",
    "\n",
    "TEXT: Amy spends the most time on sports, or Amy is an Olympic gold medal winner.\n",
    "FOL: SpendOn(Amy, MostOfTheirTime, Sports) | OlympicGoldMedalWinner(Amy)\n",
    "\n",
    "TEXT: If Amy is not a Nobel physics laureate, then Amy is not an Olympic gold medal winner.\n",
    "FOL: -NobelPhysicsLaureate(Amy) -> -OlympicGoldMedalWinner(Amy)\n",
    "\n",
    "TEXT: If Amy is not an Olympic gold medal winner, then Amy is a Nobel physics laureate.\n",
    "FOL: -OlympicGoldMedalWinner(Amy) -> NobelPhysicsLaureate(Amy)\n",
    "<EVALUATE>\n",
    "\n",
    "TEXT: No songs are visuals.\n",
    "FOL: All xDot (Song(x) -> -Visual(x))\n",
    "\n",
    "TEXT: All folk songs are songs.\n",
    "FOL: All xDot (FolkSong(x) -> Song(x))\n",
    "\n",
    "TEXT: All videos are visuals.\n",
    "FOL: All xDot (Video(x) -> Visual(x))\n",
    "\n",
    "TEXT: All movies are videos.\n",
    "FOL: All xDot (Movie(x) -> Video(x))\n",
    "\n",
    "TEXT: All sci-fi movies are movies.\n",
    "FOL: All xDot (ScifiMovie(x) -> Movie(x))\n",
    "\n",
    "TEXT: Inception is a sci-fi movie.\n",
    "FOL: ScifiMovie(Inception)\n",
    "\n",
    "TEXT: Mac is neither a folk song nor a sci-fi movie.\n",
    "FOL: -FolkSong(Mac) & -ScifiMovie(Mac)\n",
    "\n",
    "TEXT: Inception is a folk song.\n",
    "FOL: FolkSong(Inception)\n",
    "<EVALUATE>\n",
    "\n",
    "TEXT: Every chef can cook.\n",
    "FOL: All xDot (Chef(x) -> Can(x, Cook))\n",
    "\n",
    "TEXT: Some people who aren’t chefs can cook.\n",
    "FOL: Exists xDot (-Chef(x) & Can(x, Cook))\n",
    "\n",
    "TEXT: People who cook can make scrambled eggs and pasta.\n",
    "FOL: All xDot (Can(x, Cook) -> (CanMake(x, ScrambledEggs) & CanMake(x, Pasta)))\n",
    "\n",
    "TEXT: If someone can make cookies and muffins, they are a baker.\n",
    "FOL: All xDot (CanMake(x, Cookies) & CanMake(x, Muffins) -> Baker(x))\n",
    "\n",
    "TEXT: Bakers who can also make scrambled eggs can make a good breakfast.\n",
    "FOL: All xDot ((Baker(x) & CanMake(x, ScrambledEggs)) -> CanMake(x, GoodBreakfast))\n",
    "\n",
    "TEXT: Luke can make cookies, scrambled eggs, and muffins, but not pasta.\n",
    "FOL: CanMake(Luke, Cookies) & (CanMake(Luke, ScrambledEggs) & CanMake(Luke, Muffins) & -CanMake(Luke, Pasta)\n",
    "\n",
    "TEXT: Luke is a chef.\n",
    "FOL: Chef(Luke)\n",
    "<EVALUATE>\n",
    "\n",
    "<PREMISES>\n",
    "Surprises are either fun or dreadful.\n",
    "All scares are surprises.\n",
    "</PREMISES>\n",
    "<CONCLUSION>\n",
    "All scares are fun.\n",
    "</CONCLUSION>\n",
    "<EVALUATE>\n",
    "\"\"\""
   ]
  },
  {
   "cell_type": "code",
   "execution_count": null,
   "id": "a7f7191e",
   "metadata": {},
   "outputs": [],
   "source": [
    "# prompt the model\n",
    "\n"
   ]
  },
  {
   "cell_type": "code",
   "execution_count": null,
   "id": "2f851afa",
   "metadata": {},
   "outputs": [],
   "source": [
    "# for prelim results 1: convert to  nltk expression + apply grammar (check for correctness of expression l8r)\n",
    "\n"
   ]
  }
 ],
 "metadata": {
  "kernelspec": {
   "display_name": "Python [conda env:cs375] *",
   "language": "python",
   "name": "conda-env-cs375-py"
  },
  "language_info": {
   "codemirror_mode": {
    "name": "ipython",
    "version": 3
   },
   "file_extension": ".py",
   "mimetype": "text/x-python",
   "name": "python",
   "nbconvert_exporter": "python",
   "pygments_lexer": "ipython3",
   "version": "3.11.9"
  }
 },
 "nbformat": 4,
 "nbformat_minor": 5
}
